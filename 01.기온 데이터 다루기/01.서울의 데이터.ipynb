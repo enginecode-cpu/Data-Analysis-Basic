{
 "metadata": {
  "language_info": {
   "codemirror_mode": {
    "name": "ipython",
    "version": 3
   },
   "file_extension": ".py",
   "mimetype": "text/x-python",
   "name": "python",
   "nbconvert_exporter": "python",
   "pygments_lexer": "ipython3",
   "version": "3.7.4-final"
  },
  "orig_nbformat": 2,
  "kernelspec": {
   "name": "python3",
   "display_name": "Python 3",
   "language": "python"
  }
 },
 "nbformat": 4,
 "nbformat_minor": 2,
 "cells": [
  {
   "cell_type": "code",
   "execution_count": 1,
   "metadata": {},
   "outputs": [],
   "source": [
    "import pandas as pd"
   ]
  },
  {
   "cell_type": "code",
   "execution_count": 2,
   "metadata": {},
   "outputs": [
    {
     "output_type": "execute_result",
     "data": {
      "text/plain": [
       "               날짜   지점  평균기온(℃)  최저기온(℃)  최고기온(℃)\n",
       "0      1907-10-01  108     13.5      7.9     20.7\n",
       "1      1907-10-02  108     16.2      7.9     22.0\n",
       "2      1907-10-03  108     16.2     13.1     21.3\n",
       "3      1907-10-04  108     16.5     11.2     22.0\n",
       "4      1907-10-05  108     17.6     10.9     25.4\n",
       "...           ...  ...      ...      ...      ...\n",
       "40216  2019-01-13  108      1.2     -3.0      7.6\n",
       "40217  2019-01-14  108      1.4     -2.4      5.3\n",
       "40218  2019-01-15  108     -1.7     -7.2      2.6\n",
       "40219  2019-01-16  108     -5.2    -10.1     -1.1\n",
       "40220  2019-01-17  108     -0.3     -3.2      4.0\n",
       "\n",
       "[40221 rows x 5 columns]"
      ],
      "text/html": "<div>\n<style scoped>\n    .dataframe tbody tr th:only-of-type {\n        vertical-align: middle;\n    }\n\n    .dataframe tbody tr th {\n        vertical-align: top;\n    }\n\n    .dataframe thead th {\n        text-align: right;\n    }\n</style>\n<table border=\"1\" class=\"dataframe\">\n  <thead>\n    <tr style=\"text-align: right;\">\n      <th></th>\n      <th>날짜</th>\n      <th>지점</th>\n      <th>평균기온(℃)</th>\n      <th>최저기온(℃)</th>\n      <th>최고기온(℃)</th>\n    </tr>\n  </thead>\n  <tbody>\n    <tr>\n      <th>0</th>\n      <td>1907-10-01</td>\n      <td>108</td>\n      <td>13.5</td>\n      <td>7.9</td>\n      <td>20.7</td>\n    </tr>\n    <tr>\n      <th>1</th>\n      <td>1907-10-02</td>\n      <td>108</td>\n      <td>16.2</td>\n      <td>7.9</td>\n      <td>22.0</td>\n    </tr>\n    <tr>\n      <th>2</th>\n      <td>1907-10-03</td>\n      <td>108</td>\n      <td>16.2</td>\n      <td>13.1</td>\n      <td>21.3</td>\n    </tr>\n    <tr>\n      <th>3</th>\n      <td>1907-10-04</td>\n      <td>108</td>\n      <td>16.5</td>\n      <td>11.2</td>\n      <td>22.0</td>\n    </tr>\n    <tr>\n      <th>4</th>\n      <td>1907-10-05</td>\n      <td>108</td>\n      <td>17.6</td>\n      <td>10.9</td>\n      <td>25.4</td>\n    </tr>\n    <tr>\n      <th>...</th>\n      <td>...</td>\n      <td>...</td>\n      <td>...</td>\n      <td>...</td>\n      <td>...</td>\n    </tr>\n    <tr>\n      <th>40216</th>\n      <td>2019-01-13</td>\n      <td>108</td>\n      <td>1.2</td>\n      <td>-3.0</td>\n      <td>7.6</td>\n    </tr>\n    <tr>\n      <th>40217</th>\n      <td>2019-01-14</td>\n      <td>108</td>\n      <td>1.4</td>\n      <td>-2.4</td>\n      <td>5.3</td>\n    </tr>\n    <tr>\n      <th>40218</th>\n      <td>2019-01-15</td>\n      <td>108</td>\n      <td>-1.7</td>\n      <td>-7.2</td>\n      <td>2.6</td>\n    </tr>\n    <tr>\n      <th>40219</th>\n      <td>2019-01-16</td>\n      <td>108</td>\n      <td>-5.2</td>\n      <td>-10.1</td>\n      <td>-1.1</td>\n    </tr>\n    <tr>\n      <th>40220</th>\n      <td>2019-01-17</td>\n      <td>108</td>\n      <td>-0.3</td>\n      <td>-3.2</td>\n      <td>4.0</td>\n    </tr>\n  </tbody>\n</table>\n<p>40221 rows × 5 columns</p>\n</div>"
     },
     "metadata": {},
     "execution_count": 2
    }
   ],
   "source": [
    "df = pd.read_csv('./seoul.csv', encoding='cp949')\n",
    "df"
   ]
  },
  {
   "cell_type": "code",
   "execution_count": 3,
   "metadata": {},
   "outputs": [
    {
     "output_type": "stream",
     "name": "stdout",
     "text": [
      "<class 'pandas.core.frame.DataFrame'>\nRangeIndex: 40221 entries, 0 to 40220\nData columns (total 5 columns):\n날짜         40221 non-null object\n지점         40221 non-null int64\n평균기온(℃)    39465 non-null float64\n최저기온(℃)    39464 non-null float64\n최고기온(℃)    39463 non-null float64\ndtypes: float64(3), int64(1), object(1)\nmemory usage: 1.5+ MB\n"
     ]
    }
   ],
   "source": [
    "df.info()"
   ]
  },
  {
   "cell_type": "code",
   "execution_count": 4,
   "metadata": {},
   "outputs": [],
   "source": [
    "df = df.dropna()"
   ]
  },
  {
   "cell_type": "code",
   "execution_count": 5,
   "metadata": {},
   "outputs": [
    {
     "output_type": "execute_result",
     "data": {
      "text/plain": [
       "Index(['지점', '평균기온(℃)', '최저기온(℃)', '최고기온(℃)'], dtype='object')"
      ]
     },
     "metadata": {},
     "execution_count": 5
    }
   ],
   "source": [
    "df_date = df.set_index('날짜')\n",
    "col_index = df_date.columns\n",
    "col_index"
   ]
  },
  {
   "source": [
    "### 서울의 가장 최고 기온"
   ],
   "cell_type": "markdown",
   "metadata": {}
  },
  {
   "cell_type": "code",
   "execution_count": 6,
   "metadata": {},
   "outputs": [
    {
     "output_type": "execute_result",
     "data": {
      "text/plain": [
       "날짜\n",
       "2018-08-01    39.6\n",
       "Name: 최고기온(℃), dtype: float64"
      ]
     },
     "metadata": {},
     "execution_count": 6
    }
   ],
   "source": [
    "df_date[df_date[col_index[3]] == df_date.max()[3]][col_index[3]]"
   ]
  },
  {
   "source": [
    "### 서울의 가장 최저 기온"
   ],
   "cell_type": "markdown",
   "metadata": {}
  },
  {
   "cell_type": "code",
   "execution_count": 7,
   "metadata": {},
   "outputs": [
    {
     "output_type": "execute_result",
     "data": {
      "text/plain": [
       "날짜\n",
       "1927-12-31   -23.1\n",
       "Name: 최저기온(℃), dtype: float64"
      ]
     },
     "metadata": {},
     "execution_count": 7
    }
   ],
   "source": [
    "df_date[df_date[col_index[2]] == df_date.min()[2]][col_index[2]]"
   ]
  }
 ]
}