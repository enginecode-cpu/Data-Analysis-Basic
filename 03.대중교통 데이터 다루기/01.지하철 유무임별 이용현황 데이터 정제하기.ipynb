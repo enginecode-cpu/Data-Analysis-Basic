{
 "metadata": {
  "language_info": {
   "codemirror_mode": {
    "name": "ipython",
    "version": 3
   },
   "file_extension": ".py",
   "mimetype": "text/x-python",
   "name": "python",
   "nbconvert_exporter": "python",
   "pygments_lexer": "ipython3",
   "version": "3.7.4-final"
  },
  "orig_nbformat": 2,
  "kernelspec": {
   "name": "python3",
   "display_name": "Python 3",
   "language": "python"
  }
 },
 "nbformat": 4,
 "nbformat_minor": 2,
 "cells": [
  {
   "cell_type": "code",
   "execution_count": 1,
   "metadata": {},
   "outputs": [],
   "source": [
    "import pandas as pd\n",
    "import matplotlib.pyplot as plt\n",
    "import csv"
   ]
  },
  {
   "cell_type": "code",
   "execution_count": 2,
   "metadata": {},
   "outputs": [
    {
     "output_type": "execute_result",
     "data": {
      "text/plain": [
       "         사용월    호선명   역ID        지하철역     유임승차     유임하차    무임승차    무임하차\n",
       "0    2019-01    1호선   150         서울역  1516452  1400464  221180  211764\n",
       "1    2019-01    1호선   151          시청   676932   676266  102388  101033\n",
       "2    2019-01    1호선   152          종각  1240810  1177643  162410  152062\n",
       "3    2019-01    1호선   153        종로3가   703110   674148  387062  362735\n",
       "4    2019-01    1호선   154        종로5가   571824   583955  275447  263687\n",
       "..       ...    ...   ...         ...      ...      ...     ...     ...\n",
       "593  2019-01  우이신설선  4709      북한산보국문   131839   117790   40396   40629\n",
       "594  2019-01  우이신설선  4710          정릉    83527    73090   43457   41092\n",
       "595  2019-01  우이신설선  4711  성신여대입구(돈암)    77040    89799   31555   29648\n",
       "596  2019-01  우이신설선  4712          보문    31502    32724   15900   16109\n",
       "597  2019-01  우이신설선  4713         신설동    37248    40743   19037   17418\n",
       "\n",
       "[598 rows x 8 columns]"
      ],
      "text/html": "<div>\n<style scoped>\n    .dataframe tbody tr th:only-of-type {\n        vertical-align: middle;\n    }\n\n    .dataframe tbody tr th {\n        vertical-align: top;\n    }\n\n    .dataframe thead th {\n        text-align: right;\n    }\n</style>\n<table border=\"1\" class=\"dataframe\">\n  <thead>\n    <tr style=\"text-align: right;\">\n      <th></th>\n      <th>사용월</th>\n      <th>호선명</th>\n      <th>역ID</th>\n      <th>지하철역</th>\n      <th>유임승차</th>\n      <th>유임하차</th>\n      <th>무임승차</th>\n      <th>무임하차</th>\n    </tr>\n  </thead>\n  <tbody>\n    <tr>\n      <th>0</th>\n      <td>2019-01</td>\n      <td>1호선</td>\n      <td>150</td>\n      <td>서울역</td>\n      <td>1516452</td>\n      <td>1400464</td>\n      <td>221180</td>\n      <td>211764</td>\n    </tr>\n    <tr>\n      <th>1</th>\n      <td>2019-01</td>\n      <td>1호선</td>\n      <td>151</td>\n      <td>시청</td>\n      <td>676932</td>\n      <td>676266</td>\n      <td>102388</td>\n      <td>101033</td>\n    </tr>\n    <tr>\n      <th>2</th>\n      <td>2019-01</td>\n      <td>1호선</td>\n      <td>152</td>\n      <td>종각</td>\n      <td>1240810</td>\n      <td>1177643</td>\n      <td>162410</td>\n      <td>152062</td>\n    </tr>\n    <tr>\n      <th>3</th>\n      <td>2019-01</td>\n      <td>1호선</td>\n      <td>153</td>\n      <td>종로3가</td>\n      <td>703110</td>\n      <td>674148</td>\n      <td>387062</td>\n      <td>362735</td>\n    </tr>\n    <tr>\n      <th>4</th>\n      <td>2019-01</td>\n      <td>1호선</td>\n      <td>154</td>\n      <td>종로5가</td>\n      <td>571824</td>\n      <td>583955</td>\n      <td>275447</td>\n      <td>263687</td>\n    </tr>\n    <tr>\n      <th>...</th>\n      <td>...</td>\n      <td>...</td>\n      <td>...</td>\n      <td>...</td>\n      <td>...</td>\n      <td>...</td>\n      <td>...</td>\n      <td>...</td>\n    </tr>\n    <tr>\n      <th>593</th>\n      <td>2019-01</td>\n      <td>우이신설선</td>\n      <td>4709</td>\n      <td>북한산보국문</td>\n      <td>131839</td>\n      <td>117790</td>\n      <td>40396</td>\n      <td>40629</td>\n    </tr>\n    <tr>\n      <th>594</th>\n      <td>2019-01</td>\n      <td>우이신설선</td>\n      <td>4710</td>\n      <td>정릉</td>\n      <td>83527</td>\n      <td>73090</td>\n      <td>43457</td>\n      <td>41092</td>\n    </tr>\n    <tr>\n      <th>595</th>\n      <td>2019-01</td>\n      <td>우이신설선</td>\n      <td>4711</td>\n      <td>성신여대입구(돈암)</td>\n      <td>77040</td>\n      <td>89799</td>\n      <td>31555</td>\n      <td>29648</td>\n    </tr>\n    <tr>\n      <th>596</th>\n      <td>2019-01</td>\n      <td>우이신설선</td>\n      <td>4712</td>\n      <td>보문</td>\n      <td>31502</td>\n      <td>32724</td>\n      <td>15900</td>\n      <td>16109</td>\n    </tr>\n    <tr>\n      <th>597</th>\n      <td>2019-01</td>\n      <td>우이신설선</td>\n      <td>4713</td>\n      <td>신설동</td>\n      <td>37248</td>\n      <td>40743</td>\n      <td>19037</td>\n      <td>17418</td>\n    </tr>\n  </tbody>\n</table>\n<p>598 rows × 8 columns</p>\n</div>"
     },
     "metadata": {},
     "execution_count": 2
    }
   ],
   "source": [
    "df = pd.read_csv('./subwayfee.csv', encoding='cp949')\n",
    "df"
   ]
  },
  {
   "cell_type": "code",
   "execution_count": 3,
   "metadata": {},
   "outputs": [
    {
     "output_type": "stream",
     "name": "stdout",
     "text": [
      "<class 'pandas.core.frame.DataFrame'>\nRangeIndex: 598 entries, 0 to 597\nData columns (total 8 columns):\n사용월     598 non-null object\n호선명     598 non-null object\n역ID     598 non-null int64\n지하철역    598 non-null object\n유임승차    598 non-null int64\n유임하차    598 non-null int64\n무임승차    598 non-null int64\n무임하차    598 non-null int64\ndtypes: int64(5), object(3)\nmemory usage: 37.5+ KB\n"
     ]
    }
   ],
   "source": [
    "df.info()"
   ]
  },
  {
   "source": [
    "### 유임 승차 비율이 높은 지하철역"
   ],
   "cell_type": "markdown",
   "metadata": {}
  },
  {
   "cell_type": "code",
   "execution_count": 4,
   "metadata": {
    "tags": []
   },
   "outputs": [],
   "source": [
    "f = open('./subwayfee.csv', encoding='cp949')\n",
    "data = csv.reader(f)\n",
    "next(data)\n",
    "\n",
    "rate_dict = []\n",
    "for i, row in enumerate(data):\n",
    "    if int(row[4]) + int(row[6]) >= 100000:\n",
    "        rate_dict.append((row[3], int(row[4]) / (int(row[4]) + int(row[6]))))"
   ]
  },
  {
   "cell_type": "code",
   "execution_count": 5,
   "metadata": {},
   "outputs": [],
   "source": [
    "rate_dict.sort(key=lambda x: x[1], reverse=True)"
   ]
  },
  {
   "cell_type": "code",
   "execution_count": 6,
   "metadata": {},
   "outputs": [
    {
     "output_type": "stream",
     "name": "stdout",
     "text": [
      "유임승차율이 높은 지역은 홍대입구(95.34483800050836%) 입니다\n"
     ]
    }
   ],
   "source": [
    "result = rate_dict[0]\n",
    "print(f'유임승차율이 높은 지역은 {result[0]}({result[1]*100}%) 입니다')"
   ]
  },
  {
   "source": [
    "### 유임 하차 비율이 높은 지하철역"
   ],
   "cell_type": "markdown",
   "metadata": {}
  },
  {
   "cell_type": "code",
   "execution_count": 7,
   "metadata": {},
   "outputs": [],
   "source": [
    "f = open('./subwayfee.csv', encoding='cp949')\n",
    "data = csv.reader(f)\n",
    "next(data)\n",
    "\n",
    "rate_dict = []\n",
    "for i, row in enumerate(data):\n",
    "    if int(row[5]) + int(row[7]) >= 100000:\n",
    "        rate_dict.append((row[3], int(row[5]) / (int(row[5]) + int(row[7]))))"
   ]
  },
  {
   "cell_type": "code",
   "execution_count": 8,
   "metadata": {},
   "outputs": [],
   "source": [
    "rate_dict.sort(key=lambda x: x[1], reverse=True)"
   ]
  },
  {
   "cell_type": "code",
   "execution_count": 9,
   "metadata": {},
   "outputs": [
    {
     "output_type": "stream",
     "name": "stdout",
     "text": [
      "유임 하차율이 높은 지역은 홍대입구(95.74318769904649%) 입니다\n"
     ]
    }
   ],
   "source": [
    "result = rate_dict[0]\n",
    "print(f'유임 하차율이 높은 지역은 {result[0]}({result[1]*100}%) 입니다')"
   ]
  },
  {
   "source": [
    "### 무임 승차 비율이 높은 지하철역"
   ],
   "cell_type": "markdown",
   "metadata": {}
  },
  {
   "cell_type": "code",
   "execution_count": 10,
   "metadata": {},
   "outputs": [],
   "source": [
    "f = open('./subwayfee.csv', encoding='cp949')\n",
    "data = csv.reader(f)\n",
    "next(data)\n",
    "\n",
    "rate_dict = []\n",
    "for i, row in enumerate(data):\n",
    "    if int(row[4]) + int(row[6]) >= 100000:\n",
    "        rate_dict.append((row[3], int(row[6]) / (int(row[4]) + int(row[6]))))"
   ]
  },
  {
   "cell_type": "code",
   "execution_count": 11,
   "metadata": {},
   "outputs": [],
   "source": [
    "rate_dict.sort(key=lambda x: x[1], reverse=True)"
   ]
  },
  {
   "cell_type": "code",
   "execution_count": 12,
   "metadata": {},
   "outputs": [
    {
     "output_type": "stream",
     "name": "stdout",
     "text": [
      "무임 승차율이 높은 지역은 소요산(56.33868971808976%) 입니다\n"
     ]
    }
   ],
   "source": [
    "result = rate_dict[0]\n",
    "print(f'무임 승차율이 높은 지역은 {result[0]}({result[1]*100}%) 입니다')"
   ]
  },
  {
   "source": [
    "### 무임 하차 비율이 높은 지하철역"
   ],
   "cell_type": "markdown",
   "metadata": {}
  },
  {
   "cell_type": "code",
   "execution_count": 13,
   "metadata": {},
   "outputs": [],
   "source": [
    "f = open('./subwayfee.csv', encoding='cp949')\n",
    "data = csv.reader(f)\n",
    "next(data)\n",
    "\n",
    "rate_dict = []\n",
    "for i, row in enumerate(data):\n",
    "    if int(row[5]) + int(row[7]) >= 100000:\n",
    "        rate_dict.append((row[3], int(row[7]) / (int(row[5]) + int(row[7]))))"
   ]
  },
  {
   "cell_type": "code",
   "execution_count": 14,
   "metadata": {},
   "outputs": [],
   "source": [
    "rate_dict.sort(key=lambda x: x[1], reverse=True)"
   ]
  },
  {
   "cell_type": "code",
   "execution_count": 15,
   "metadata": {},
   "outputs": [
    {
     "output_type": "stream",
     "name": "stdout",
     "text": [
      "무임 하차율이 높은 지역은 제기동(58.15810715073807%) 입니다\n"
     ]
    }
   ],
   "source": [
    "result = rate_dict[0]\n",
    "print(f'무임 하차율이 높은 지역은 {result[0]}({result[1]*100}%) 입니다')"
   ]
  }
 ]
}